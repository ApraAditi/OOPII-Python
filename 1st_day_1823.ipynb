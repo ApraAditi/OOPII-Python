{
  "nbformat": 4,
  "nbformat_minor": 0,
  "metadata": {
    "colab": {
      "provenance": [],
      "authorship_tag": "ABX9TyNdPldQbzSSVv+mhPEza8Bi",
      "include_colab_link": true
    },
    "kernelspec": {
      "name": "python3",
      "display_name": "Python 3"
    },
    "language_info": {
      "name": "python"
    }
  },
  "cells": [
    {
      "cell_type": "markdown",
      "metadata": {
        "id": "view-in-github",
        "colab_type": "text"
      },
      "source": [
        "<a href=\"https://colab.research.google.com/github/ApraAditi/OOPII-Python/blob/main/1st_day_1823.ipynb\" target=\"_parent\"><img src=\"https://colab.research.google.com/assets/colab-badge.svg\" alt=\"Open In Colab\"/></a>"
      ]
    },
    {
      "cell_type": "markdown",
      "source": [
        "Start the practice with Hello world!"
      ],
      "metadata": {
        "id": "58cGHu1vGx1O"
      }
    },
    {
      "cell_type": "code",
      "execution_count": null,
      "metadata": {
        "colab": {
          "base_uri": "https://localhost:8080/"
        },
        "id": "a8PHZC91Gn2p",
        "outputId": "039f6d7f-4654-47db-aa44-a6921b904ced"
      },
      "outputs": [
        {
          "output_type": "stream",
          "name": "stdout",
          "text": [
            "Hello World!\n"
          ]
        }
      ],
      "source": [
        "print(\"Hello World!\")"
      ]
    },
    {
      "cell_type": "markdown",
      "source": [
        "Comments in Python"
      ],
      "metadata": {
        "id": "sQ-q-0kmHEQb"
      }
    },
    {
      "cell_type": "code",
      "source": [
        "Name = \"Apra\"\n",
        "print(Name)"
      ],
      "metadata": {
        "colab": {
          "base_uri": "https://localhost:8080/"
        },
        "id": "mYow0dBEHD5s",
        "outputId": "07551641-31d5-4d60-d4ed-6cda4eee1a1c"
      },
      "execution_count": null,
      "outputs": [
        {
          "output_type": "stream",
          "name": "stdout",
          "text": [
            "Apra\n"
          ]
        }
      ]
    },
    {
      "cell_type": "markdown",
      "source": [
        "Variable"
      ],
      "metadata": {
        "id": "I6__x5YVHtCy"
      }
    },
    {
      "cell_type": "code",
      "source": [
        "Age = 20  # int var.\n",
        "Cgpa = 3.72 # floot var.\n",
        "Name = \"Apra\" # String\n",
        "\n",
        "print(Name)\n",
        "print(Cgpa)\n",
        "print(Age)"
      ],
      "metadata": {
        "colab": {
          "base_uri": "https://localhost:8080/"
        },
        "id": "UvMrvkTkHvFD",
        "outputId": "9d0539cf-bc91-466c-c2b7-23101bd78c24"
      },
      "execution_count": null,
      "outputs": [
        {
          "output_type": "stream",
          "name": "stdout",
          "text": [
            "Apra\n",
            "3.72\n",
            "20\n"
          ]
        }
      ]
    },
    {
      "cell_type": "markdown",
      "source": [
        "Python Comments"
      ],
      "metadata": {
        "id": "E5Nrox9ChCx0"
      }
    },
    {
      "cell_type": "code",
      "source": [
        "Name = \"Apra\" #this is the single line comment\n",
        "print(Name)\n",
        "\"\"\"for multiple\n",
        "line\n",
        "comment\"\"\""
      ],
      "metadata": {
        "colab": {
          "base_uri": "https://localhost:8080/",
          "height": 53
        },
        "id": "5NmCqd6EhFzy",
        "outputId": "ba3c795d-57e7-478b-f3b7-c518752a2e58"
      },
      "execution_count": null,
      "outputs": [
        {
          "output_type": "stream",
          "name": "stdout",
          "text": [
            "Apra\n"
          ]
        },
        {
          "output_type": "execute_result",
          "data": {
            "text/plain": [
              "'for multiple\\nline\\ncomment'"
            ],
            "application/vnd.google.colaboratory.intrinsic+json": {
              "type": "string"
            }
          },
          "metadata": {},
          "execution_count": 6
        }
      ]
    },
    {
      "cell_type": "markdown",
      "source": [
        "input output"
      ],
      "metadata": {
        "id": "A5i1t3voIW8L"
      }
    },
    {
      "cell_type": "code",
      "source": [
        "age = input(\"Enter Your Age: \")\n",
        "print(age)"
      ],
      "metadata": {
        "colab": {
          "base_uri": "https://localhost:8080/"
        },
        "id": "doGXDK79Ifhb",
        "outputId": "36e0794c-42cf-4b86-c905-d4705e55bb5e"
      },
      "execution_count": null,
      "outputs": [
        {
          "output_type": "stream",
          "name": "stdout",
          "text": [
            "Enter Your Age: 20\n",
            "20\n"
          ]
        }
      ]
    },
    {
      "cell_type": "markdown",
      "source": [
        "Python Numbers"
      ],
      "metadata": {
        "id": "KICMP_T68Pvw"
      }
    },
    {
      "cell_type": "code",
      "source": [
        "a = 2\n",
        "b = 2.2\n",
        "c = \"Apra\"\n",
        "d = 3 + 5j #complex\n",
        "e = -5j\n",
        "f = float(a) #type conversion/type casting\n",
        "\n",
        "print(type(a))\n",
        "print(type(b))\n",
        "print(type(c))\n",
        "print(type(d))\n",
        "print(type(e))\n",
        "print(f)\n",
        "\n",
        "import random #print random number in the given range\n",
        "random_number = random.randrange(2,30)\n",
        "print(random_number)"
      ],
      "metadata": {
        "colab": {
          "base_uri": "https://localhost:8080/"
        },
        "id": "xEn65rfT8UU6",
        "outputId": "88c6979f-6b1a-4003-9a5a-8a02da95680d"
      },
      "execution_count": null,
      "outputs": [
        {
          "output_type": "stream",
          "name": "stdout",
          "text": [
            "<class 'int'>\n",
            "<class 'float'>\n",
            "<class 'str'>\n",
            "<class 'complex'>\n",
            "<class 'complex'>\n",
            "2.0\n",
            "11\n"
          ]
        }
      ]
    },
    {
      "cell_type": "markdown",
      "source": [
        "Python Strings"
      ],
      "metadata": {
        "id": "sSldifdhDYZY"
      }
    },
    {
      "cell_type": "code",
      "source": [
        "print(\"\"\"sum is\"\"\",7+3)\n",
        "print('Display \\'Hi\\' in quotes') #\\'Escape Character\n",
        "print(\"Display \\\"Hi\\\" in quotes\") #\\\"\"Escape Character\n",
        "print('''Display 'Hi' and \"Bye\" in quotes''')"
      ],
      "metadata": {
        "colab": {
          "base_uri": "https://localhost:8080/"
        },
        "id": "ZzykLqzqDY7v",
        "outputId": "9222650f-df43-4358-ef6c-d380296c7898"
      },
      "execution_count": null,
      "outputs": [
        {
          "output_type": "stream",
          "name": "stdout",
          "text": [
            "sum is 10\n",
            "Display 'Hi' in quotes\n",
            "Display \"Hi\" in quotes\n",
            "Display 'Hi' and \"Bye\" in quotes\n"
          ]
        }
      ]
    },
    {
      "cell_type": "markdown",
      "source": [
        "Strings are Arrays"
      ],
      "metadata": {
        "id": "OSxP9oLBDo7Q"
      }
    },
    {
      "cell_type": "code",
      "source": [
        "a = \"Hello. how are you?\"\n",
        "print(a[6])\n",
        "print(a[7])\n",
        "print(len(a)) #string length\n",
        "print(\"No\" in a) #check string (Membership Operators)\n",
        "print(\"No\"not in a) #check if not in string (Membership Operators)\n"
      ],
      "metadata": {
        "colab": {
          "base_uri": "https://localhost:8080/"
        },
        "id": "OHYBBiw2Ditu",
        "outputId": "7ee18340-fe46-4f04-873c-a7b123e7e1c2"
      },
      "execution_count": null,
      "outputs": [
        {
          "output_type": "stream",
          "name": "stdout",
          "text": [
            " \n",
            "h\n",
            "19\n",
            "False\n",
            "True\n"
          ]
        }
      ]
    },
    {
      "cell_type": "markdown",
      "source": [
        "Slicing Strings\n"
      ],
      "metadata": {
        "id": "nx4OQ-YCFcm3"
      }
    },
    {
      "cell_type": "code",
      "source": [
        "a = \"Hello. how are you?\"\n",
        "print(a[2:17])\n",
        "print(a[:17]) #from start\n",
        "print(a[2:]) #to end\n",
        "print(a[-13:-3]) #Neg Slicing"
      ],
      "metadata": {
        "colab": {
          "base_uri": "https://localhost:8080/"
        },
        "id": "DGH_QiRGFc2d",
        "outputId": "978013f2-a158-4dcc-9f2a-8eead40308f7"
      },
      "execution_count": null,
      "outputs": [
        {
          "output_type": "stream",
          "name": "stdout",
          "text": [
            "llo. how are yo\n",
            "Hello. how are yo\n",
            "llo. how are you?\n",
            " how are y\n"
          ]
        }
      ]
    },
    {
      "cell_type": "markdown",
      "source": [
        "Modify Strings"
      ],
      "metadata": {
        "id": "8PYK47PzH-Bt"
      }
    },
    {
      "cell_type": "code",
      "source": [
        "a = \"Hello. How are you?\"\n",
        "print(a.upper()) #upper case\n",
        "print(a.lower()) #lower case\n",
        "print(a.strip()) #remove space from start or the end\n",
        "print(a.replace(\"Hello\", \"Hi\")) #replace string with another string\n",
        "b = \"Okay! Good Bye.\"\n",
        "c = \"Okay, Good Bye.\"\n",
        "print(b.split(\"!\")) #the specified separator becomes the list items.\n",
        "print(c.split(\",\"))"
      ],
      "metadata": {
        "colab": {
          "base_uri": "https://localhost:8080/"
        },
        "id": "4NkVROQNH-OE",
        "outputId": "a1872c41-bb5e-401c-e9a7-c176c77a30bf"
      },
      "execution_count": null,
      "outputs": [
        {
          "output_type": "stream",
          "name": "stdout",
          "text": [
            "HELLO. HOW ARE YOU?\n",
            "hello. how are you?\n",
            "Hello. How are you?\n",
            "Hi. How are you?\n",
            "['Okay', ' Good Bye.']\n",
            "['Okay', ' Good Bye.']\n"
          ]
        }
      ]
    },
    {
      "cell_type": "markdown",
      "source": [
        "String Concatenation"
      ],
      "metadata": {
        "id": "efL9cWx5K_qk"
      }
    },
    {
      "cell_type": "code",
      "source": [
        "a = \"Hello\"\n",
        "b = \"Apra\"\n",
        "print(a + b)\n",
        "print(a + \" \" +  b)"
      ],
      "metadata": {
        "colab": {
          "base_uri": "https://localhost:8080/"
        },
        "id": "6kqbsCgdK_1t",
        "outputId": "0674c348-3a66-47c9-a6c1-1520dbdef4ad"
      },
      "execution_count": null,
      "outputs": [
        {
          "output_type": "stream",
          "name": "stdout",
          "text": [
            "HelloApra\n",
            "Hello Apra\n"
          ]
        }
      ]
    },
    {
      "cell_type": "markdown",
      "source": [
        " Format-Strings"
      ],
      "metadata": {
        "id": "ViXYcwNuMX47"
      }
    },
    {
      "cell_type": "code",
      "source": [
        "age = 20\n",
        "a = (f\"my age is {age}\")\n",
        "print (a)"
      ],
      "metadata": {
        "colab": {
          "base_uri": "https://localhost:8080/"
        },
        "id": "mllj2uMVMYAE",
        "outputId": "32ed00fc-a625-4c0f-9c2f-fa9a5453db5c"
      },
      "execution_count": null,
      "outputs": [
        {
          "output_type": "stream",
          "name": "stdout",
          "text": [
            "my age is 20\n"
          ]
        }
      ]
    },
    {
      "cell_type": "markdown",
      "source": [
        "Arithmetic Operation"
      ],
      "metadata": {
        "id": "7b81WLI6jbnr"
      }
    },
    {
      "cell_type": "code",
      "source": [
        "a = 9\n",
        "b = 4\n",
        "print(a + b) #add\n",
        "print(a - b) #sub\n",
        "print(a * b) #mul\n",
        "print(a / b) #Div\n",
        "print(a % b) #Mod"
      ],
      "metadata": {
        "colab": {
          "base_uri": "https://localhost:8080/"
        },
        "id": "H9C8TlF0I_4v",
        "outputId": "3f543ed9-ec19-479d-c3b0-bb9d17d3d1e3"
      },
      "execution_count": null,
      "outputs": [
        {
          "output_type": "stream",
          "name": "stdout",
          "text": [
            "13\n",
            "5\n",
            "36\n",
            "2.25\n",
            "1\n"
          ]
        }
      ]
    },
    {
      "cell_type": "markdown",
      "source": [
        "Comparison Operators"
      ],
      "metadata": {
        "id": "lHc09FJbQ3Mq"
      }
    },
    {
      "cell_type": "code",
      "source": [
        "a = 4\n",
        "b = 9\n",
        "print (a==b)\n",
        "print(a>b)\n",
        "print(a<b)\n",
        "print(a>=b)\n",
        "print(a<=b)\n",
        "print(a!=b)\n",
        "\n"
      ],
      "metadata": {
        "colab": {
          "base_uri": "https://localhost:8080/"
        },
        "id": "jXsU69mzQ3Uh",
        "outputId": "81545db2-31c3-481e-9707-8e730307108b"
      },
      "execution_count": null,
      "outputs": [
        {
          "output_type": "stream",
          "name": "stdout",
          "text": [
            "False\n",
            "False\n",
            "True\n",
            "False\n",
            "True\n",
            "True\n"
          ]
        }
      ]
    },
    {
      "cell_type": "markdown",
      "source": [
        "Logical Operators"
      ],
      "metadata": {
        "id": "Sp8NQVdLKxEn"
      }
    },
    {
      "cell_type": "code",
      "source": [
        "a = True\n",
        "b = False\n",
        "print(a and b)\n",
        "print(a or b)\n",
        "print( not b)"
      ],
      "metadata": {
        "colab": {
          "base_uri": "https://localhost:8080/"
        },
        "id": "6gSV-DT_LGzN",
        "outputId": "702cf52d-00e2-48b9-f408-28b137914548"
      },
      "execution_count": null,
      "outputs": [
        {
          "output_type": "stream",
          "name": "stdout",
          "text": [
            "False\n",
            "True\n",
            "True\n"
          ]
        }
      ]
    },
    {
      "cell_type": "markdown",
      "source": [
        "Assignment Operators"
      ],
      "metadata": {
        "id": "6ffwBYphLbcN"
      }
    },
    {
      "cell_type": "code",
      "source": [
        "a = 10\n",
        "b = a\n",
        "print (b)\n",
        "b += a\n",
        "print (b)\n",
        "b -= a\n",
        "print (b)\n",
        "b *= a\n",
        "print (b)"
      ],
      "metadata": {
        "colab": {
          "base_uri": "https://localhost:8080/"
        },
        "id": "9axnEf1GLhoS",
        "outputId": "b4fb495b-9bd0-4777-81e3-6b9c2adc7ea5"
      },
      "execution_count": null,
      "outputs": [
        {
          "output_type": "stream",
          "name": "stdout",
          "text": [
            "10\n",
            "20\n",
            "10\n",
            "100\n"
          ]
        }
      ]
    },
    {
      "cell_type": "markdown",
      "source": [
        "If Else"
      ],
      "metadata": {
        "id": "NgzrmNZIMSpB"
      }
    },
    {
      "cell_type": "code",
      "source": [
        "i = 10\n",
        "if (i == 3):\n",
        "  print(\"i is 3\")\n",
        "elif (i == 10):\n",
        "  print(\"i is  10\")\n",
        "else:\n",
        "  print(\"i is  15\")"
      ],
      "metadata": {
        "colab": {
          "base_uri": "https://localhost:8080/"
        },
        "id": "gYHH4afjMUmQ",
        "outputId": "af549331-d039-411a-c1c3-1012ecb28f95"
      },
      "execution_count": null,
      "outputs": [
        {
          "output_type": "stream",
          "name": "stdout",
          "text": [
            "i is  10\n"
          ]
        }
      ]
    },
    {
      "cell_type": "markdown",
      "source": [
        "Loop"
      ],
      "metadata": {
        "id": "D0Gc9rLnOP5h"
      }
    },
    {
      "cell_type": "code",
      "source": [
        "for i in range(0, 20, 2):\n",
        "    print(i)\n"
      ],
      "metadata": {
        "colab": {
          "base_uri": "https://localhost:8080/"
        },
        "id": "upPwnht0ORXR",
        "outputId": "4f34f2cb-2adc-47b2-bbc6-d5b3fcb5ad1d"
      },
      "execution_count": null,
      "outputs": [
        {
          "output_type": "stream",
          "name": "stdout",
          "text": [
            "0\n",
            "2\n",
            "4\n",
            "6\n",
            "8\n",
            "10\n",
            "12\n",
            "14\n",
            "16\n",
            "18\n"
          ]
        }
      ]
    },
    {
      "cell_type": "markdown",
      "source": [
        "While loop"
      ],
      "metadata": {
        "id": "32_MeDajOjH5"
      }
    },
    {
      "cell_type": "code",
      "source": [
        "count = 0\n",
        "while (count < 3):\n",
        "    count = count + 1\n",
        "    print(\"Hello Geek\")\n"
      ],
      "metadata": {
        "colab": {
          "base_uri": "https://localhost:8080/"
        },
        "id": "1NPzGNzsOlAQ",
        "outputId": "0be02646-a177-4980-fe3b-847c80bd9b62"
      },
      "execution_count": null,
      "outputs": [
        {
          "output_type": "stream",
          "name": "stdout",
          "text": [
            "Hello Geek\n",
            "Hello Geek\n",
            "Hello Geek\n"
          ]
        }
      ]
    },
    {
      "cell_type": "markdown",
      "source": [
        "Python Lists"
      ],
      "metadata": {
        "id": "mcVdfK6-j_kq"
      }
    },
    {
      "cell_type": "code",
      "source": [
        "list = [\"apple\", \"banana\", 12, True, \"banana\"] #list allow different data type,duplicate value\n",
        "print(list)\n",
        "print(type(list))\n",
        "print(len(list))\n",
        "print(list[1]) #by index we can access any item over list\n",
        "print(list[-2]) #negative index\n",
        "print(list[1:4]) #range\n",
        "\n",
        "list[2] = \"mango\"\n",
        "print(list) #Change Item Value\n",
        "\n",
        "list.insert(3,False) #inserts an item at the specified index\n",
        "print(list)\n",
        "\n",
        "list.append('water') #To add an item to the end of the list\n",
        "print(list)\n",
        "\n",
        "a = [\"aa\", \"ss\",\"dd\"]\n",
        "list.extend(a)#using extend method add another list/set/tuples/dictionaries\n",
        "              #here i add a tuple\n",
        "print(list)\n",
        "\n",
        "list.remove(\"dd\") #removes the specified item.\n",
        "print(list)\n",
        "\n",
        "list.pop(8) #Remove Specified Index\n",
        "print(list)\n",
        "\n",
        "del list[7] #The del keyword also removes the specified index\n",
        "print(list)\n",
        "\n",
        "list.clear() #The list still remains, but it has no content.\n",
        "print(list)\n",
        "\n",
        "del list #The del keyword can also delete the list completely.\n",
        "print(list)"
      ],
      "metadata": {
        "colab": {
          "base_uri": "https://localhost:8080/"
        },
        "id": "bGNqQ2zOkB37",
        "outputId": "3cd51a7a-1f80-42e2-8aba-097643f89961"
      },
      "execution_count": null,
      "outputs": [
        {
          "output_type": "stream",
          "name": "stdout",
          "text": [
            "['apple', 'banana', 12, True, 'banana']\n",
            "<class 'list'>\n",
            "5\n",
            "banana\n",
            "True\n",
            "['banana', 12, True]\n",
            "['apple', 'banana', 'mango', True, 'banana']\n",
            "['apple', 'banana', 'mango', False, True, 'banana']\n",
            "['apple', 'banana', 'mango', False, True, 'banana', 'water']\n",
            "['apple', 'banana', 'mango', False, True, 'banana', 'water', 'aa', 'ss', 'dd']\n",
            "['apple', 'banana', 'mango', False, True, 'banana', 'water', 'aa', 'ss']\n",
            "['apple', 'banana', 'mango', False, True, 'banana', 'water', 'aa']\n",
            "['apple', 'banana', 'mango', False, True, 'banana', 'water']\n",
            "[]\n",
            "<class 'list'>\n"
          ]
        }
      ]
    },
    {
      "cell_type": "markdown",
      "source": [
        "list Constructor (work on vs code but here not working!):"
      ],
      "metadata": {
        "id": "Znf-pWpgnCXB"
      }
    },
    {
      "cell_type": "code",
      "source": [
        "# a = list((\"apra\", 1823, \"CSE\"))\n",
        "# print(a)"
      ],
      "metadata": {
        "colab": {
          "base_uri": "https://localhost:8080/",
          "height": 193
        },
        "id": "GBaXszMgnCiP",
        "outputId": "734aee8d-fb79-47b6-b1be-a909a5e66cd2"
      },
      "execution_count": null,
      "outputs": [
        {
          "output_type": "error",
          "ename": "TypeError",
          "evalue": "'list' object is not callable",
          "traceback": [
            "\u001b[0;31m---------------------------------------------------------------------------\u001b[0m",
            "\u001b[0;31mTypeError\u001b[0m                                 Traceback (most recent call last)",
            "\u001b[0;32m<ipython-input-37-6095982212c9>\u001b[0m in \u001b[0;36m<cell line: 3>\u001b[0;34m()\u001b[0m\n\u001b[1;32m      1\u001b[0m \u001b[0;31m# a = list((\"apra\", 1823, \"CSE\"))\u001b[0m\u001b[0;34m\u001b[0m\u001b[0;34m\u001b[0m\u001b[0m\n\u001b[1;32m      2\u001b[0m \u001b[0;31m# print(a)\u001b[0m\u001b[0;34m\u001b[0m\u001b[0;34m\u001b[0m\u001b[0m\n\u001b[0;32m----> 3\u001b[0;31m \u001b[0ma\u001b[0m \u001b[0;34m=\u001b[0m \u001b[0mlist\u001b[0m\u001b[0;34m(\u001b[0m\u001b[0;34m(\u001b[0m\u001b[0;34m\"apra\"\u001b[0m\u001b[0;34m,\u001b[0m \u001b[0;34m\"1823\"\u001b[0m\u001b[0;34m,\u001b[0m \u001b[0;34m\"CSE\"\u001b[0m\u001b[0;34m)\u001b[0m\u001b[0;34m)\u001b[0m\u001b[0;34m\u001b[0m\u001b[0;34m\u001b[0m\u001b[0m\n\u001b[0m\u001b[1;32m      4\u001b[0m \u001b[0mprint\u001b[0m\u001b[0;34m(\u001b[0m\u001b[0ma\u001b[0m\u001b[0;34m)\u001b[0m\u001b[0;34m\u001b[0m\u001b[0;34m\u001b[0m\u001b[0m\n",
            "\u001b[0;31mTypeError\u001b[0m: 'list' object is not callable"
          ]
        }
      ]
    },
    {
      "cell_type": "markdown",
      "source": [
        "List Continue..."
      ],
      "metadata": {
        "id": "GyeoFO8A2CC6"
      }
    },
    {
      "cell_type": "code",
      "source": [],
      "metadata": {
        "id": "PCbkMate2JjN"
      },
      "execution_count": null,
      "outputs": []
    }
  ]
}